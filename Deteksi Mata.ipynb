{
 "cells": [
  {
   "cell_type": "code",
   "execution_count": 1,
   "id": "d875cdc5-ddab-4e63-8f05-c286e7e5b6c5",
   "metadata": {},
   "outputs": [
    {
     "name": "stdout",
     "output_type": "stream",
     "text": [
      "Requirement already satisfied: opencv-python in c:\\users\\acer\\appdata\\roaming\\python\\python311\\site-packages (4.9.0.80)\n",
      "Requirement already satisfied: numpy>=1.21.2 in c:\\users\\acer\\appdata\\roaming\\python\\python311\\site-packages (from opencv-python) (1.26.4)\n"
     ]
    }
   ],
   "source": [
    "!pip install opencv-python"
   ]
  },
  {
   "cell_type": "code",
   "execution_count": null,
   "id": "d26418ca-7a70-421c-826f-cad2953a0ce5",
   "metadata": {},
   "outputs": [],
   "source": [
    "import cv2\n",
    "\n",
    "# Fungsi untuk mendeteksi mata\n",
    "def detect_eyes(image):\n",
    "    # Mengonversi gambar ke grayscale\n",
    "    gray = cv2.cvtColor(image, cv2.COLOR_BGR2GRAY)\n",
    "    \n",
    "    # Memuat klasifikasi XML untuk deteksi mata\n",
    "    eye_cascade = cv2.CascadeClassifier(cv2.data.haarcascades + 'haarcascade_eye.xml')\n",
    "    \n",
    "    # Mendeteksi mata dalam gambar\n",
    "    eyes = eye_cascade.detectMultiScale(gray, scaleFactor=1.1, minNeighbors=5, minSize=(30, 30))\n",
    "    \n",
    "    # Menggambar kotak di sekitar mata yang terdeteksi\n",
    "    for (x, y, w, h) in eyes:\n",
    "        cv2.rectangle(image, (x, y), (x+w, y+h), (0, 255, 0), 2)\n",
    "    \n",
    "    return image\n",
    "\n",
    "# Mendeteksi mata dari video dari webcam\n",
    "def detect_eyes_from_webcam():\n",
    "    # Membuka kamera\n",
    "    cap = cv2.VideoCapture(0)\n",
    "    \n",
    "    # Loop untuk membaca setiap frame dari webcam\n",
    "    while True:\n",
    "        # Membaca frame dari kamera\n",
    "        ret, frame = cap.read()\n",
    "        \n",
    "        # Mendeteksi mata dalam frame\n",
    "        detected_frame = detect_eyes(frame)\n",
    "        \n",
    "        # Menampilkan frame yang telah dideteksi mata\n",
    "        cv2.imshow('Eyes Detection', detected_frame)\n",
    "        \n",
    "        # Keluar dari loop jika pengguna menekan 'q'\n",
    "        if cv2.waitKey(1) & 0xFF == ord('q'):\n",
    "            break\n",
    "    \n",
    "    # Menutup kamera dan jendela OpenCV\n",
    "    cap.release()\n",
    "    cv2.destroyAllWindows()\n",
    "\n",
    "# Memanggil fungsi untuk mendeteksi mata dari webcam\n",
    "detect_eyes_from_webcam()\n"
   ]
  },
  {
   "cell_type": "code",
   "execution_count": null,
   "id": "2d41f80d-90cd-4955-985f-cf37879da11c",
   "metadata": {},
   "outputs": [],
   "source": []
  }
 ],
 "metadata": {
  "kernelspec": {
   "display_name": "Python 3 (ipykernel)",
   "language": "python",
   "name": "python3"
  },
  "language_info": {
   "codemirror_mode": {
    "name": "ipython",
    "version": 3
   },
   "file_extension": ".py",
   "mimetype": "text/x-python",
   "name": "python",
   "nbconvert_exporter": "python",
   "pygments_lexer": "ipython3",
   "version": "3.11.7"
  }
 },
 "nbformat": 4,
 "nbformat_minor": 5
}
